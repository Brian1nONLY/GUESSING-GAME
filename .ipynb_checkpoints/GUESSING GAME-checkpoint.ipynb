{
 "cells": [
  {
   "cell_type": "code",
   "execution_count": 1,
   "id": "0b2f4a53",
   "metadata": {},
   "outputs": [],
   "source": [
    "import random"
   ]
  },
  {
   "cell_type": "code",
   "execution_count": 2,
   "id": "7f31c480",
   "metadata": {},
   "outputs": [
    {
     "name": "stdout",
     "output_type": "stream",
     "text": [
      "WELCOME\n",
      "THIS IS A GUESSING GAME\n",
      "TRY TO GUESS THE NUMBER THAT I AM THINKING FROM 1 TO 100\n",
      "THE RULES OF THE GAME ARE:\n",
      " 1.If a player's guess is less than 1 or greater than 100, say 'OUT OF BOUNDS'.\n",
      " 2.On a player's first turn, if their guess is within 10 of the number, return WARM else return COLD.\n",
      " 3.On all subsequent turns, if player's guess is closer to the previous guess, return WARMER else return COLDER.\n",
      "\n",
      "Guess the number: 50\n",
      "COLD!\n",
      "Guess the number: 60\n",
      "WARMER!\n",
      "Guess the number: 70\n",
      "WARMER!\n",
      "Guess the number: 80\n",
      "CORRECT GUESS!\n",
      "IT TOOK 4 GUESSES!\n"
     ]
    }
   ],
   "source": [
    "num=random.randint(1,100)\n",
    "guessing=True\n",
    "guesses=0\n",
    "turns=[]\n",
    "\n",
    "print('WELCOME\\nTHIS IS A GUESSING GAME')\n",
    "print('TRY TO GUESS THE NUMBER THAT I AM THINKING FROM 1 TO 100')\n",
    "print(\"THE RULES OF THE GAME ARE:\\n 1.If a player's guess is less than 1 or greater than 100, say 'OUT OF BOUNDS'.\\n 2.On a player's first turn, if their guess is within 10 of the number, return WARM else return COLD.\\n 3.On all subsequent turns, if player's guess is closer to the previous guess, return WARMER else return COLDER.\\n\")\n",
    "while guessing:\n",
    "    player_guess=int(input('Guess the number: '))\n",
    "    \n",
    "    if player_guess not in range(1,101):\n",
    "        print('OUT OF THE BOUNDS!')\n",
    "    else:\n",
    "        turns.append(player_guess)\n",
    "        \n",
    "        if player_guess==num:\n",
    "            guesses+=1\n",
    "            print('CORRECT GUESS!')\n",
    "            print(f'IT TOOK {guesses} GUESSES!')\n",
    "            guessing=False\n",
    "        else:\n",
    "            \n",
    "            if player_guess!=num and len(turns)==1:\n",
    "                guesses+=1\n",
    "                if abs(player_guess-num)<=10:\n",
    "                    print('WARM!')\n",
    "                elif abs(player_guess-num)>10:\n",
    "                    print('COLD!')\n",
    "                \n",
    "            elif player_guess!=num and len(turns)>1:\n",
    "                guesses+=1\n",
    "                if abs(player_guess-num)<abs(turns[-2] - num):\n",
    "                    print('WARMER!')\n",
    "                elif abs(player_guess-num)>abs(turns[-2] - num):\n",
    "                    print('COLDER!')\n",
    "            \n",
    "            "
   ]
  },
  {
   "cell_type": "code",
   "execution_count": null,
   "id": "17aea03a",
   "metadata": {},
   "outputs": [],
   "source": []
  }
 ],
 "metadata": {
  "kernelspec": {
   "display_name": "Python 3 (ipykernel)",
   "language": "python",
   "name": "python3"
  },
  "language_info": {
   "codemirror_mode": {
    "name": "ipython",
    "version": 3
   },
   "file_extension": ".py",
   "mimetype": "text/x-python",
   "name": "python",
   "nbconvert_exporter": "python",
   "pygments_lexer": "ipython3",
   "version": "3.9.7"
  }
 },
 "nbformat": 4,
 "nbformat_minor": 5
}
